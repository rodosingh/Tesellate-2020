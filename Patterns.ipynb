{
 "cells": [
  {
   "cell_type": "code",
   "execution_count": null,
   "metadata": {},
   "outputs": [],
   "source": [
    "import turtle\n",
    "\n",
    "t = turtle.Turtle()\n",
    "s = turtle.Screen()\n",
    "s.bgcolor(\"black\")\n",
    "t.pencolor(\"white\")\n",
    "a = 0\n",
    "b = 0\n",
    "t.speed(0)\n",
    "t.penup()\n",
    "t.goto(0,200)\n",
    "t.pendown()\n",
    "while True:\n",
    "    t.forward(a)\n",
    "    t.right(b)\n",
    "    a += 3\n",
    "    b += 1\n",
    "    if b == 210:\n",
    "        break\n",
    "    t.hideturtle()\n",
    "turtle.done()"
   ]
  },
  {
   "cell_type": "code",
   "execution_count": 9,
   "metadata": {
    "scrolled": true
   },
   "outputs": [],
   "source": [
    "import turtle\n",
    "\n",
    "t = turtle.Turtle()\n",
    "\n",
    "colors = ['red', 'yellow', 'green', 'purple', 'blue', 'orange']\n",
    "t = turtle.Pen()\n",
    "turtle.bgcolor(\"black\")\n",
    "t.speed(0)\n",
    "for x in range(300):\n",
    "    t.pencolor(colors[x%6])\n",
    "    t.width(x/100+1)\n",
    "    t.forward(x)\n",
    "    t.left(59)\n",
    "    t.hideturtle()"
   ]
  },
  {
   "cell_type": "code",
   "execution_count": 12,
   "metadata": {},
   "outputs": [],
   "source": [
    "from turtle import *\n",
    "from random import randint\n",
    "\n",
    "setup(width = 900, height = 700)\n",
    "speed(0)\n",
    "colormode(255)\n",
    "bgcolor(\"black\")\n",
    "\n",
    "x = 1\n",
    "while x<550:\n",
    "    r = randint(0,255)\n",
    "    g = randint(0,255)\n",
    "    b = randint(0,255)\n",
    "    color(r,g,b)\n",
    "    fd(x)\n",
    "    rt(90.11)\n",
    "    x = x+1\n",
    "hideturtle()\n",
    "done()"
   ]
  },
  {
   "cell_type": "code",
   "execution_count": 24,
   "metadata": {},
   "outputs": [],
   "source": [
    "from turtle import *\n",
    "import random\n",
    "#screen = turtle.Screen()\n",
    "#p = turtle.Turtle()\n",
    "setup(width = 900, height = 700)\n",
    "bgcolor(\"black\")\n",
    "pencolor(\"orange\")\n",
    "speed(0)\n",
    "def rapid(x):\n",
    "    for i in range(500):\n",
    "        forward(i)\n",
    "        left(x)\n",
    "rapid(125)\n",
    "hideturtle()\n",
    "done()"
   ]
  },
  {
   "cell_type": "code",
   "execution_count": 61,
   "metadata": {},
   "outputs": [],
   "source": [
    "from turtle import *\n",
    "from random import randint\n",
    "\n",
    "setup(width = 900, height = 700)\n",
    "speed(0)\n",
    "colormode(255)\n",
    "bgcolor(\"black\")\n",
    "pensize(7)\n",
    "lst = [\"purple\", \"red\", \"orange\", \"blue\", \"green\"]\n",
    "x = 1\n",
    "while x<550:\n",
    "    r = randint(0,255)\n",
    "    g = randint(0,255)\n",
    "    b = randint(0,255)\n",
    "    color(r,g,b)\n",
    "    fd(x)\n",
    "    rt(119)\n",
    "    x = x+1\n",
    "penup()\n",
    "color(\"purple\")\n",
    "goto(-20,-300)\n",
    "hideturtle()\n",
    "done()"
   ]
  },
  {
   "cell_type": "code",
   "execution_count": 65,
   "metadata": {},
   "outputs": [],
   "source": [
    "from turtle import *\n",
    "speed(0)\n",
    "setup(width = 900, height = 700)\n",
    "bgcolor(\"black\")\n",
    "lst = [\"purple\", \"red\", \"orange\", \"blue\", \"green\"]\n",
    "for i in range(300):\n",
    "    color(lst[i%5])\n",
    "    pensize(i/10+0.5)\n",
    "    forward(i)\n",
    "    left(59)\n",
    "penup()\n",
    "hideturtle()\n",
    "done()"
   ]
  }
 ],
 "metadata": {
  "kernelspec": {
   "display_name": "Python 3",
   "language": "python",
   "name": "python3"
  },
  "language_info": {
   "codemirror_mode": {
    "name": "ipython",
    "version": 3
   },
   "file_extension": ".py",
   "mimetype": "text/x-python",
   "name": "python",
   "nbconvert_exporter": "python",
   "pygments_lexer": "ipython3",
   "version": "3.7.6"
  },
  "toc": {
   "base_numbering": 1,
   "nav_menu": {},
   "number_sections": true,
   "sideBar": true,
   "skip_h1_title": false,
   "title_cell": "Table of Contents",
   "title_sidebar": "Contents",
   "toc_cell": false,
   "toc_position": {},
   "toc_section_display": true,
   "toc_window_display": false
  }
 },
 "nbformat": 4,
 "nbformat_minor": 4
}
